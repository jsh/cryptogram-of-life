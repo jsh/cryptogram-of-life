{
 "cells": [
  {
   "cell_type": "markdown",
   "metadata": {},
   "source": [
    "## The Circle Game\n",
    "\n",
    "        We're captive on the carousel of time\n",
    "        We can't return we can only look\n",
    "        Behind from where we came\n",
    "        And go round and round and round\n",
    "        In the circle game\n",
    "        -- Joni Mitchell, `Circle Game`\n",
    " "
   ]
  },
  {
   "cell_type": "markdown",
   "metadata": {},
   "source": [
    "Suppose you want to compare a string, character-by-character, to itself and see how many matches there are.\n"
   ]
  },
  {
   "cell_type": "code",
   "execution_count": 72,
   "metadata": {},
   "outputs": [],
   "source": [
    "def matches(seq: str) -> int:\n",
    "    \"\"\"Count matches of seq with itself.\"\"\"\n",
    "    _matches = 0\n",
    "    for chr in seq:\n",
    "        if chr == chr:\n",
    "            _matches += 1\n",
    "    return _matches"
   ]
  },
  {
   "cell_type": "markdown",
   "metadata": {},
   "source": [
    "You know the answer already: they all match, so it's just the number of characters in the string."
   ]
  },
  {
   "cell_type": "code",
   "execution_count": 73,
   "metadata": {},
   "outputs": [
    {
     "data": {
      "text/plain": [
       "True"
      ]
     },
     "execution_count": 73,
     "metadata": {},
     "output_type": "execute_result"
    }
   ],
   "source": [
    "seq = \"hello, world\"\n",
    "matches(seq) == len(seq)"
   ]
  },
  {
   "cell_type": "markdown",
   "metadata": {},
   "source": [
    "Change `seq` above to something else and press enter if you think `\"hello, world\"` is special."
   ]
  },
  {
   "cell_type": "markdown",
   "metadata": {},
   "source": [
    "But what if you shift the string a little, like this?\n",
    "\n",
    "        hello, world\n",
    "         hello, world"
   ]
  },
  {
   "cell_type": "markdown",
   "metadata": {},
   "source": [
    "Now, almost nothing matches -- there's only the second `l` in the original `hello`, which matches the first `l` in the shifted version, below it.  \n",
    "\n",
    "You also have to special-case the characters at the beginning of the original and end of the shifted version, which don't have anything to compare to. You can get rid of that nuisance by treating the string as a circle, moving the letters shifted off the end around to the beginning.\n",
    "\n",
    "        hello, world\n",
    "        dhello, worl\n",
    "\n",
    "Let's rewrite `matches()` to do just that."
   ]
  },
  {
   "cell_type": "code",
   "execution_count": 74,
   "metadata": {},
   "outputs": [],
   "source": [
    "def matches(seq: str, shift: int) -> int:\n",
    "    \"\"\"Count matches of seq to a circular permutation, shifted by shift.\"\"\"\n",
    "    matches = 0\n",
    "    length = len(seq)\n",
    "    for pos, chr in enumerate(seq):\n",
    "        # just use modular arithmetic to find the character to compare to\n",
    "        shifted_chr = seq[(pos+shift) % length]\n",
    "        if chr == shifted_chr:\n",
    "            matches += 1\n",
    "    return matches"
   ]
  },
  {
   "cell_type": "markdown",
   "metadata": {},
   "source": [
    "A shift of 0 should give the length of the string,"
   ]
  },
  {
   "cell_type": "code",
   "execution_count": 75,
   "metadata": {},
   "outputs": [
    {
     "data": {
      "text/plain": [
       "True"
      ]
     },
     "execution_count": 75,
     "metadata": {},
     "output_type": "execute_result"
    }
   ],
   "source": [
    "matches(seq, 0) == len(seq)"
   ]
  },
  {
   "cell_type": "markdown",
   "metadata": {},
   "source": [
    "and a shift of 1 should just leave a single, matching `l`."
   ]
  },
  {
   "cell_type": "code",
   "execution_count": 76,
   "metadata": {},
   "outputs": [
    {
     "data": {
      "text/plain": [
       "1"
      ]
     },
     "execution_count": 76,
     "metadata": {},
     "output_type": "execute_result"
    }
   ],
   "source": [
    "matches(seq, 1)"
   ]
  },
  {
   "cell_type": "markdown",
   "metadata": {},
   "source": [
    "The rotated version of the string is `seq[shift:] + seq[:shift]`,\n",
    "so we can see the matches for each rotation like this:\n"
   ]
  },
  {
   "cell_type": "code",
   "execution_count": 77,
   "metadata": {},
   "outputs": [
    {
     "name": "stdout",
     "output_type": "stream",
     "text": [
      "hello, world: 12\n",
      "ello, worldh: 1\n",
      "llo, worldhe: 0\n",
      "lo, worldhel: 0\n",
      "o, worldhell: 2\n",
      ", worldhello: 1\n",
      " worldhello,: 0\n",
      "worldhello, : 1\n",
      "orldhello, w: 2\n",
      "rldhello, wo: 0\n",
      "ldhello, wor: 0\n",
      "dhello, worl: 1\n"
     ]
    }
   ],
   "source": [
    "for shift in range(len(seq)):\n",
    "    n_match = matches(seq, shift)\n",
    "    print(f\"{seq[shift:] + seq[:shift]}: {n_match}\")"
   ]
  },
  {
   "cell_type": "markdown",
   "metadata": {},
   "source": [
    "After it rotates half way around, we start getting the same counds in reverse.\n",
    "Of course! It's a circle, so the number of matches for a shift of one to the right\n",
    "\n",
    "    hello, world\n",
    "    dhello, worl\n",
    "\n",
    "will be the same as the number of matches for a shift of one to the left\n",
    " \n",
    "    hello, world\n",
    "    ello, worldh\n",
    "\n",
    "The first `len(seq) // 2` shifts give all possible mis-alignments. Even including the original sequence aligned with itself cuts the time to run the previous example nearly in half:"
   ]
  },
  {
   "cell_type": "code",
   "execution_count": 78,
   "metadata": {},
   "outputs": [
    {
     "name": "stdout",
     "output_type": "stream",
     "text": [
      "hello, world : n_match=12\n",
      "ello, worldh : n_match=1\n",
      "llo, worldhe : n_match=0\n",
      "lo, worldhel : n_match=0\n",
      "o, worldhell : n_match=2\n",
      ", worldhello : n_match=1\n",
      " worldhello, : n_match=0\n"
     ]
    }
   ],
   "source": [
    "for shift in range(len(seq)//2 + 1):\n",
    "    n_match = matches(seq, shift)\n",
    "    print(f\"{seq[shift:] + seq[:shift]} : {n_match=}\")"
   ]
  },
  {
   "cell_type": "markdown",
   "metadata": {},
   "source": [
    "Surprisingly, the fourth mis-alignment has a pair of matches, more than the first! Its second `o`, from `world`, matches the original `o` in `hello`, and its penultimate letter, `l`, matches the `l` in the original `world`. \n",
    "\n",
    "        hello, world\n",
    "        o, worldhell\n",
    "\n",
    "A longer shift gives a better match."
   ]
  },
  {
   "cell_type": "markdown",
   "metadata": {},
   "source": [
    "It's worth wrapping that into a function."
   ]
  },
  {
   "cell_type": "code",
   "execution_count": 79,
   "metadata": {},
   "outputs": [],
   "source": [
    "def shift_matches(seq: str) -> list[int]:\n",
    "    \"\"\"Return number of matches of sequence with each possible shift of itself.\"\"\"\n",
    "    _shift_matches = []\n",
    "    for shift in range(len(seq)//2 + 1):\n",
    "        _shift_matches.append(matches(seq, shift))\n",
    "    return _shift_matches"
   ]
  },
  {
   "cell_type": "code",
   "execution_count": 80,
   "metadata": {},
   "outputs": [
    {
     "data": {
      "text/plain": [
       "[12, 1, 0, 0, 2, 1, 0]"
      ]
     },
     "execution_count": 80,
     "metadata": {},
     "output_type": "execute_result"
    }
   ],
   "source": [
    "shift_matches(seq)"
   ]
  },
  {
   "cell_type": "markdown",
   "metadata": {},
   "source": [
    "Processing and rearranging that list a little makes it easy to show the shifts with the best matches."
   ]
  },
  {
   "cell_type": "code",
   "execution_count": 81,
   "metadata": {},
   "outputs": [],
   "source": [
    "from collections import defaultdict\n",
    "\n",
    "def best_matches(seq: str) -> list[tuple[int, list[int]]]:\n",
    "    \"\"\"Return list of pairs: (# of matches, [shift(s) with that many matches]).\n",
    "    \n",
    "    Sort the list, reporting positions with most matches first.\n",
    "    \"\"\"\n",
    "    _positions = defaultdict(list)\n",
    "    for pos, matches in enumerate(shift_matches(seq)):\n",
    "        _positions[matches].append(pos)\n",
    "    return sorted(_positions.items(), reverse=True)"
   ]
  },
  {
   "cell_type": "code",
   "execution_count": 82,
   "metadata": {},
   "outputs": [
    {
     "data": {
      "text/plain": [
       "[(12, [0]), (2, [4]), (1, [1, 5]), (0, [2, 3, 6])]"
      ]
     },
     "execution_count": 82,
     "metadata": {},
     "output_type": "execute_result"
    }
   ],
   "source": [
    "best_matches(seq)"
   ]
  },
  {
   "cell_type": "markdown",
   "metadata": {},
   "source": [
    "As we've seen already, the most matches are with the unshifted string itself (no surprise), the second most are at a shift of 4.\n",
    "Shifts of 1 and 5 both find only one match, and the rest have none. "
   ]
  },
  {
   "attachments": {},
   "cell_type": "markdown",
   "metadata": {},
   "source": [
    "## Circular DNA"
   ]
  },
  {
   "attachments": {},
   "cell_type": "markdown",
   "metadata": {},
   "source": [
    "Well, okay, but so what? In the first place, who wants to compare strings with their shifted versions,\n",
    "and in the second who ever has circular strings?\n",
    "\n",
    "Let's start with the latter.\n",
    "The DNA in your chromosomes is a linear string of the letters 'A', 'C', 'G', and 'T'.\n",
    "Of course, these letters are chemicals -- Adenine, Cytosine, Guanine, and Thymine -- but the letters in this notebook\n",
    "are really bit patterns, and even if you think of bits ones and zeros, they're implemented as electronics.\n",
    "\n",
    "So. DNA is a string. Modern DNA-sequencing techniques supply a surfeit of such strings.\n",
    "\n",
    "But not all DNA in your cells is in the nucleus. There's also DNA in your mitochondria. \n",
    "And while the DNA in chromosomes is linear strings in a four-letter alphabet, \n",
    "the DNA in the mitochondria of those cells is circular.\n",
    "\n",
    "It's also a lot smaller. The biggest human chromosome has almost 250 million letters, the smallest, only about 45 million.\n",
    "Human mitochondrial DNA? 16,569. Smaller than a 20KB file.  An 80x24 terminal window shows 1920 characters, so only about eight of those. \n",
    "\n",
    "The genome of *Escherischia coli*, the workhorse of bacterial genetics, is bigger but still only about 50MB. And circular.\n",
    "Bacteriophage *lambda*, a common molecular biology tool, infects *E. coli*, and is only about 50KB, a tenth the size. \n",
    "(A \"bacteriophage\", or \"phage\" is a virus that infects bacteria.)\n",
    "Another *E. coli* predator, *phiX174*, is only 5K.  All three are circular. \n",
    "\n",
    "Circular genomes are the rule in the bacterial world, not the exception.\n",
    "We have tons of strings available to us that are circular. They're all DNA.\n",
    "\n",
    "\n"
   ]
  },
  {
   "attachments": {},
   "cell_type": "markdown",
   "metadata": {},
   "source": [
    "## A Look at PhiX DNA.\n",
    "\n",
    "Let's try our code on [the phiX174 genome](https://www.ncbi.nlm.nih.gov/nuccore/9626372). You can download it to a file by clicking on **FASTA**, then **Send to:**.\n"
   ]
  },
  {
   "attachments": {},
   "cell_type": "markdown",
   "metadata": {},
   "source": [
    "The FASTA file, `sequence.fasta`, is just a text file -- a single-line header followed by the DNA sequence, broken into 72-column lines."
   ]
  },
  {
   "cell_type": "code",
   "execution_count": 83,
   "metadata": {},
   "outputs": [
    {
     "name": "stdout",
     "output_type": "stream",
     "text": [
      "['>NC_001422.1 Escherichia phage phiX174, complete genome\\n', 'GAGTTTTATCGCTTCCATGACGCAGAAGTTAACACTTTCGGATATTTCTGATGAGTCGAAAAATTATCTT\\n']\n"
     ]
    }
   ],
   "source": [
    "with open(\"sequence.fasta\") as fasta:\n",
    "   lines = fasta.readlines()\n",
    "print(lines[:2])"
   ]
  },
  {
   "attachments": {},
   "cell_type": "markdown",
   "metadata": {},
   "source": [
    "You could parse it yourself and concatenate all the DNA fragments into a single string,\n",
    "but BioPython will do that work for you."
   ]
  },
  {
   "cell_type": "code",
   "execution_count": 84,
   "metadata": {},
   "outputs": [
    {
     "data": {
      "text/plain": [
       "'NC_001422.1 Escherichia phage phiX174, complete genome'"
      ]
     },
     "execution_count": 84,
     "metadata": {},
     "output_type": "execute_result"
    }
   ],
   "source": [
    "import Bio.SeqIO  # the BioPython module, for handling DNA sequences.\n",
    "\n",
    "record = Bio.SeqIO.read(\"sequence.fasta\", \"fasta\")\n",
    "record.description\n"
   ]
  },
  {
   "cell_type": "code",
   "execution_count": 85,
   "metadata": {},
   "outputs": [
    {
     "data": {
      "text/plain": [
       "5386"
      ]
     },
     "execution_count": 85,
     "metadata": {},
     "output_type": "execute_result"
    }
   ],
   "source": [
    "len(record.seq)\n"
   ]
  },
  {
   "attachments": {},
   "cell_type": "markdown",
   "metadata": {},
   "source": [
    "PhiX has 5386 bases (letters).\n",
    "\n",
    "Let's wrap getting the sequence into a function."
   ]
  },
  {
   "cell_type": "markdown",
   "metadata": {},
   "source": []
  },
  {
   "cell_type": "code",
   "execution_count": 86,
   "metadata": {},
   "outputs": [],
   "source": [
    "import Bio.SeqIO  # the BioPython module, for handling DNA sequences.\n",
    "\n",
    "def get_dna_sequence(filename: str) -> str:\n",
    "    \"\"\"Return sequence in FASTA file as a single string.\"\"\"\n",
    "    return Bio.SeqIO.read(filename, \"fasta\").seq\n"
   ]
  },
  {
   "attachments": {},
   "cell_type": "markdown",
   "metadata": {},
   "source": [
    "### Compare phiX to Itself, Shifted"
   ]
  },
  {
   "attachments": {},
   "cell_type": "markdown",
   "metadata": {},
   "source": [
    "All right-y, then! What happens when we look at shift-matches for the PhiX circular genome?\n",
    "Once again, the most matches will be for the un-shifted genome, but what comes next?"
   ]
  },
  {
   "cell_type": "code",
   "execution_count": 87,
   "metadata": {},
   "outputs": [
    {
     "name": "stdout",
     "output_type": "stream",
     "text": [
      "(5386, [0])\n",
      "(1609, [66])\n",
      "(1608, [78])\n",
      "(1599, [9])\n",
      "(1594, [12])\n",
      "(1590, [57])\n",
      "(1587, [21])\n",
      "(1585, [96])\n",
      "(1584, [33, 48])\n",
      "(1579, [30])\n"
     ]
    }
   ],
   "source": [
    "seq = get_dna_sequence(\"sequence.fasta\")\n",
    "sorted_matches = best_matches(seq)\n",
    "for shifts_producing_nmatches in sorted_matches[:10]:  # shift distances of 10 match-iest\n",
    "    print(shifts_producing_nmatches)"
   ]
  },
  {
   "attachments": {},
   "cell_type": "markdown",
   "metadata": {},
   "source": [
    "The most matches, 5386, are the whole sequence. When you don't shift at all, everything matches itself.\n",
    "The second-most matches, 1609, are at a shift of 66. Is it a lot? We'd have to do math.\n",
    "\n",
    "How many do we expect to see at random? Four letters, so on average, a quarter of the letters would end up randomly matching: \n",
    "5386/4 = 1347\n",
    "\n",
    "Right?\n",
    "\n",
    "Wrong.\n",
    "\n",
    "The letters may not occur 1/4 of the time.  If, for example, you had a circular sequence that was all 'A' (even though this one isn't), every shift would still match at every letter. To figure out how many matches we expect at random requires first finding out the letter distribution, or *base composition*, and then doing some math. \n",
    "\n",
    "Seems like work, so let's come back to that later.\n",
    "\n",
    "For now, go back and look again at the positions: 66, 78, 9, ..., 30. Every one is divisible by 3!\n",
    "\n",
    "How far down our list of positions do we have to go to find one that isn't?\n"
   ]
  },
  {
   "cell_type": "code",
   "execution_count": 88,
   "metadata": {},
   "outputs": [],
   "source": [
    "def not_divisible_by_3(positions: list[int]):\n",
    "    return [position for position in positions if position%3 != 0]\n",
    "\n",
    "\n",
    "peculiar_location_rank = []"
   ]
  },
  {
   "cell_type": "code",
   "execution_count": 89,
   "metadata": {},
   "outputs": [
    {
     "name": "stdout",
     "output_type": "stream",
     "text": [
      "[(44, 1502, [1828]), (51, 1492, [81, 270, 2074]), (55, 1486, [348, 672, 2047, 2104]), (56, 1485, [336, 1954, 2520]), (58, 1483, [246, 570, 1852]), (59, 1480, [231, 720, 2515]), (61, 1478, [135, 168, 626]), (62, 1477, [63, 1510]), (64, 1475, [243, 357, 1007]), (65, 1474, [273, 1810])]\n"
     ]
    }
   ],
   "source": [
    "# collect all the (n_matches, positions) pairs\n",
    "# that have a position not divisible by 3\n",
    "for rank, (n_matches, positions) in enumerate(sorted_matches):\n",
    "    if not_divisible_by_3(positions):\n",
    "        peculiar_locations.append((rank, n_matches, positions))\n",
    "print(peculiar_locations[:10])      # ranks of first 10 shifts that aren't divisible by 3"
   ]
  },
  {
   "attachments": {},
   "cell_type": "markdown",
   "metadata": {},
   "source": [
    "That's impressive. The first 43, best-matching lshifts (42 if you count the \"shift\" that did nothing) are all divisible by 3.\n",
    "Since there are often more than one shift with the same match, what's the median number of matches?\n"
   ]
  },
  {
   "cell_type": "code",
   "execution_count": 95,
   "metadata": {},
   "outputs": [
    {
     "name": "stdout",
     "output_type": "stream",
     "text": [
      "mean number of matches = 1377.2268002969563\n",
      "median number of matches = 1374\n"
     ]
    }
   ],
   "source": [
    "n_matches = shift_matches(seq)\n",
    "print(f\"mean number of matches = {sum(n_matches)/len(n_matches)}\")\n",
    "n_matches_sorted = sorted(n_matches, reverse=True)\n",
    "print(f\"median number of matches = {n_matches_sorted[len(n_matches)//2]}\")"
   ]
  },
  {
   "cell_type": "code",
   "execution_count": null,
   "metadata": {},
   "outputs": [],
   "source": []
  }
 ],
 "metadata": {
  "kernelspec": {
   "display_name": "Python 3 (ipykernel)",
   "language": "python",
   "name": "python3"
  },
  "language_info": {
   "codemirror_mode": {
    "name": "ipython",
    "version": 3
   },
   "file_extension": ".py",
   "mimetype": "text/x-python",
   "name": "python",
   "nbconvert_exporter": "python",
   "pygments_lexer": "ipython3",
   "version": "3.11.2"
  }
 },
 "nbformat": 4,
 "nbformat_minor": 2
}
