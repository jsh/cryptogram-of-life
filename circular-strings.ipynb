{
 "cells": [
  {
   "attachments": {},
   "cell_type": "markdown",
   "metadata": {},
   "source": [
    "## The Circle Game\n",
    "\n",
    "        We're captive on the carousel of time\n",
    "        We can't return we can only look\n",
    "        Behind from where we came\n",
    "        And go round and round and round\n",
    "        In the circle game\n",
    "        -- Joni Mitchell, `Circle Game`\n",
    " "
   ]
  },
  {
   "attachments": {},
   "cell_type": "markdown",
   "metadata": {},
   "source": [
    "Suppose you want to compare a string, character-by-character, to itself and see how many matches there are.\n"
   ]
  },
  {
   "cell_type": "code",
   "execution_count": 3,
   "metadata": {},
   "outputs": [],
   "source": [
    "def matches(seq: str) -> int:\n",
    "    \"\"\"Count matches of seq with itself.\"\"\"\n",
    "    _matches = 0\n",
    "    for chr in seq:\n",
    "        if chr == chr:\n",
    "            _matches += 1\n",
    "    return _matches"
   ]
  },
  {
   "attachments": {},
   "cell_type": "markdown",
   "metadata": {},
   "source": [
    "You know the answer already: they all match, so it's just the number of characters in the string."
   ]
  },
  {
   "cell_type": "code",
   "execution_count": 4,
   "metadata": {},
   "outputs": [
    {
     "data": {
      "text/plain": [
       "True"
      ]
     },
     "execution_count": 4,
     "metadata": {},
     "output_type": "execute_result"
    }
   ],
   "source": [
    "seq = \"hello, world\"\n",
    "matches(seq) == len(seq)"
   ]
  },
  {
   "attachments": {},
   "cell_type": "markdown",
   "metadata": {},
   "source": [
    "Change `seq` above to something else and press enter if you think `\"hello, world\"` is special."
   ]
  },
  {
   "attachments": {},
   "cell_type": "markdown",
   "metadata": {},
   "source": [
    "But what if you shift the string a little, like this?\n",
    "\n",
    "        hello, world\n",
    "         hello, world"
   ]
  },
  {
   "attachments": {},
   "cell_type": "markdown",
   "metadata": {},
   "source": [
    "Now, almost nothing matches -- there's only the second `l` in the original `hello`, which matches the first `l` in the shifted version, below it.  \n",
    "\n",
    "You also have to special-case the characters at the beginning of the original and end of the shifted version, which don't have anything to compare to. You can get rid of that nuisance by treating the string as a circle, moving the letters shifted off the end around to the beginning.\n",
    "\n",
    "        hello, world\n",
    "        dhello, worl\n",
    "\n",
    "Let's rewrite `matches()` to do just that."
   ]
  },
  {
   "cell_type": "code",
   "execution_count": 5,
   "metadata": {},
   "outputs": [],
   "source": [
    "def matches(seq: str, shift: int) -> int:\n",
    "    \"\"\"Count matches of seq to a circular permutation, shifted by shift.\"\"\"\n",
    "    matches = 0\n",
    "    length = len(seq)\n",
    "    for pos, chr in enumerate(seq):\n",
    "        # just use modular arithmetic to find the character to compare to\n",
    "        shifted_chr = seq[(pos+shift) % length]\n",
    "        if chr == shifted_chr:\n",
    "            matches += 1\n",
    "    return matches"
   ]
  },
  {
   "attachments": {},
   "cell_type": "markdown",
   "metadata": {},
   "source": [
    "A shift of 0 should give the length of the string,"
   ]
  },
  {
   "cell_type": "code",
   "execution_count": 6,
   "metadata": {},
   "outputs": [
    {
     "data": {
      "text/plain": [
       "True"
      ]
     },
     "execution_count": 6,
     "metadata": {},
     "output_type": "execute_result"
    }
   ],
   "source": [
    "matches(seq, 0) == len(seq)"
   ]
  },
  {
   "attachments": {},
   "cell_type": "markdown",
   "metadata": {},
   "source": [
    "and a shift of 1 should just leave a single, matching `l`."
   ]
  },
  {
   "cell_type": "code",
   "execution_count": 7,
   "metadata": {},
   "outputs": [
    {
     "data": {
      "text/plain": [
       "1"
      ]
     },
     "execution_count": 7,
     "metadata": {},
     "output_type": "execute_result"
    }
   ],
   "source": [
    "matches(seq, 1)"
   ]
  },
  {
   "attachments": {},
   "cell_type": "markdown",
   "metadata": {},
   "source": [
    "The rotated version of the string is `seq[shift:] + seq[:shift]`,\n",
    "so we can see the matches for each rotation like this:\n"
   ]
  },
  {
   "cell_type": "code",
   "execution_count": 8,
   "metadata": {},
   "outputs": [
    {
     "name": "stdout",
     "output_type": "stream",
     "text": [
      "hello, world: 12\n",
      "ello, worldh: 1\n",
      "llo, worldhe: 0\n",
      "lo, worldhel: 0\n",
      "o, worldhell: 2\n",
      ", worldhello: 1\n",
      " worldhello,: 0\n",
      "worldhello, : 1\n",
      "orldhello, w: 2\n",
      "rldhello, wo: 0\n",
      "ldhello, wor: 0\n",
      "dhello, worl: 1\n"
     ]
    }
   ],
   "source": [
    "for shift in range(len(seq)):\n",
    "    n_match = matches(seq, shift)\n",
    "    print(f\"{seq[shift:] + seq[:shift]}: {n_match}\")"
   ]
  },
  {
   "attachments": {},
   "cell_type": "markdown",
   "metadata": {},
   "source": [
    "After it rotates half way around, we start getting the same counds in reverse.\n",
    "Of course! It's a circle, so the number of matches for a shift of one to the right\n",
    "\n",
    "    hello, world\n",
    "    dhello, worl\n",
    "\n",
    "will be the same as the number of matches for a shift of one to the left\n",
    " \n",
    "    hello, world\n",
    "    ello, worldh\n",
    "\n",
    "The first `len(seq) // 2` shifts give all possible mis-alignments. Even including the original sequence aligned with itself cuts the time to run the previous example nearly in half:"
   ]
  },
  {
   "cell_type": "code",
   "execution_count": 9,
   "metadata": {},
   "outputs": [
    {
     "name": "stdout",
     "output_type": "stream",
     "text": [
      "hello, world : n_match=12\n",
      "ello, worldh : n_match=1\n",
      "llo, worldhe : n_match=0\n",
      "lo, worldhel : n_match=0\n",
      "o, worldhell : n_match=2\n",
      ", worldhello : n_match=1\n",
      " worldhello, : n_match=0\n"
     ]
    }
   ],
   "source": [
    "for shift in range(len(seq)//2 + 1):\n",
    "    n_match = matches(seq, shift)\n",
    "    print(f\"{seq[shift:] + seq[:shift]} : {n_match=}\")"
   ]
  },
  {
   "attachments": {},
   "cell_type": "markdown",
   "metadata": {},
   "source": [
    "Surprisingly, the fourth mis-alignment has a pair of matches, more than the first! Its second `o`, from `world`, matches the original `o` in `hello`, and its penultimate letter, `l`, matches the `l` in the original `world`. \n",
    "\n",
    "        hello, world\n",
    "        o, worldhell\n",
    "\n",
    "A longer shift gives a better match."
   ]
  },
  {
   "attachments": {},
   "cell_type": "markdown",
   "metadata": {},
   "source": [
    "It's worth wrapping that into a function."
   ]
  },
  {
   "cell_type": "code",
   "execution_count": 10,
   "metadata": {},
   "outputs": [],
   "source": [
    "def shift_matches(seq: str) -> list[int]:\n",
    "    \"\"\"Return number of matches of sequence with each possible shift of itself.\"\"\"\n",
    "    _shift_matches = []\n",
    "    for shift in range(len(seq)//2 + 1):\n",
    "        _shift_matches.append(matches(seq, shift))\n",
    "    return _shift_matches"
   ]
  },
  {
   "cell_type": "code",
   "execution_count": 11,
   "metadata": {},
   "outputs": [
    {
     "data": {
      "text/plain": [
       "[12, 1, 0, 0, 2, 1, 0]"
      ]
     },
     "execution_count": 11,
     "metadata": {},
     "output_type": "execute_result"
    }
   ],
   "source": [
    "shift_matches(seq)"
   ]
  },
  {
   "attachments": {},
   "cell_type": "markdown",
   "metadata": {},
   "source": [
    "Rearranging that a little makes it easy to display the shifts with the best matches."
   ]
  },
  {
   "cell_type": "code",
   "execution_count": 12,
   "metadata": {},
   "outputs": [],
   "source": [
    "from collections import defaultdict\n",
    "\n",
    "def best_matches(seq: str) -> list[tuple[int, list[int]]]:\n",
    "    \"\"\"Return list of pairs: (# of matches, [shift(s) with that many matches]).\n",
    "    \n",
    "    Sort the list, reporting positions with most matches first.\n",
    "    \"\"\"\n",
    "    positions = defaultdict(list)\n",
    "    for pos, matches in enumerate(shift_matches(seq)):\n",
    "        positions[matches].append(pos)\n",
    "    return sorted(positions.items(), reverse=True)"
   ]
  },
  {
   "cell_type": "code",
   "execution_count": 13,
   "metadata": {},
   "outputs": [
    {
     "data": {
      "text/plain": [
       "[(12, [0]), (2, [4]), (1, [1, 5]), (0, [2, 3, 6])]"
      ]
     },
     "execution_count": 13,
     "metadata": {},
     "output_type": "execute_result"
    }
   ],
   "source": [
    "best_matches(seq)"
   ]
  },
  {
   "attachments": {},
   "cell_type": "markdown",
   "metadata": {},
   "source": [
    "As we've seen already, the most matches are with the unshifted string (no surprise), the second most are at a shift of 4.\n",
    "Shifts of 1 and 5 both find only one match, and the rest have none. "
   ]
  }
 ],
 "metadata": {
  "kernelspec": {
   "display_name": ".venv",
   "language": "python",
   "name": "python3"
  },
  "language_info": {
   "codemirror_mode": {
    "name": "ipython",
    "version": 3
   },
   "file_extension": ".py",
   "mimetype": "text/x-python",
   "name": "python",
   "nbconvert_exporter": "python",
   "pygments_lexer": "ipython3",
   "version": "3.11.2"
  },
  "orig_nbformat": 4
 },
 "nbformat": 4,
 "nbformat_minor": 2
}
