{
 "cells": [
  {
   "cell_type": "markdown",
   "metadata": {},
   "source": [
    "## The Circle Game\n",
    "\n",
    "        We're captive on the carousel of time\n",
    "        We can't return we can only look\n",
    "        Behind from where we came\n",
    "        And go round and round and round\n",
    "        In the circle game\n",
    "        -- Joni Mitchell, `Circle Game`\n",
    " "
   ]
  },
  {
   "cell_type": "markdown",
   "metadata": {},
   "source": [
    "Suppose you want to compare a string, character-by-character, to itself and see how many matches there are.\n"
   ]
  },
  {
   "cell_type": "code",
   "execution_count": 1,
   "metadata": {},
   "outputs": [],
   "source": [
    "def matches(seq: str) -> int:\n",
    "    \"\"\"Count matches of seq with itself.\"\"\"\n",
    "    _matches = 0\n",
    "    for chr in seq:\n",
    "        if chr == chr:\n",
    "            _matches += 1\n",
    "    return _matches"
   ]
  },
  {
   "cell_type": "markdown",
   "metadata": {},
   "source": [
    "You know the answer already: they all match, so it's just the number of characters in the string."
   ]
  },
  {
   "cell_type": "code",
   "execution_count": 2,
   "metadata": {},
   "outputs": [
    {
     "data": {
      "text/plain": [
       "True"
      ]
     },
     "execution_count": 2,
     "metadata": {},
     "output_type": "execute_result"
    }
   ],
   "source": [
    "seq = \"hello, world\"\n",
    "matches(seq) == len(seq)"
   ]
  },
  {
   "cell_type": "markdown",
   "metadata": {},
   "source": [
    "Change `seq` above to something else and press enter if you think `\"hello, world\"` is special."
   ]
  },
  {
   "cell_type": "markdown",
   "metadata": {},
   "source": [
    "But what if you shift the string a little, like this?\n",
    "\n",
    "        hello, world\n",
    "         hello, world"
   ]
  },
  {
   "cell_type": "markdown",
   "metadata": {},
   "source": [
    "Now, almost nothing matches -- there's only the second `l` in the original `hello`, which matches the first `l` in the shifted version, below it.  \n",
    "\n",
    "You also have to special-case the characters at the beginning of the original and end of the shifted version, which don't have anything to compare to. You can get rid of that nuisance by treating the string as a circle, moving the letters shifted off the end around to the beginning.\n",
    "\n",
    "        hello, world\n",
    "        dhello, worl\n",
    "\n",
    "Let's rewrite `matches()` to do just that."
   ]
  },
  {
   "cell_type": "code",
   "execution_count": 3,
   "metadata": {},
   "outputs": [],
   "source": [
    "def matches(seq: str, shift: int) -> int:\n",
    "    \"\"\"Count matches of seq to a circular permutation, shifted by shift.\"\"\"\n",
    "    matches = 0\n",
    "    length = len(seq)\n",
    "    for pos, chr in enumerate(seq):\n",
    "        # just use modular arithmetic to find the character to compare to\n",
    "        shifted_chr = seq[(pos+shift) % length]\n",
    "        if chr == shifted_chr:\n",
    "            matches += 1\n",
    "    return matches"
   ]
  },
  {
   "cell_type": "markdown",
   "metadata": {},
   "source": [
    "A shift of 0 should give the length of the string,"
   ]
  },
  {
   "cell_type": "code",
   "execution_count": 4,
   "metadata": {},
   "outputs": [
    {
     "data": {
      "text/plain": [
       "True"
      ]
     },
     "execution_count": 4,
     "metadata": {},
     "output_type": "execute_result"
    }
   ],
   "source": [
    "matches(seq, 0) == len(seq)"
   ]
  },
  {
   "cell_type": "markdown",
   "metadata": {},
   "source": [
    "and a shift of 1 should just leave a single, matching `l`."
   ]
  },
  {
   "cell_type": "code",
   "execution_count": 5,
   "metadata": {},
   "outputs": [
    {
     "data": {
      "text/plain": [
       "1"
      ]
     },
     "execution_count": 5,
     "metadata": {},
     "output_type": "execute_result"
    }
   ],
   "source": [
    "matches(seq, 1)"
   ]
  },
  {
   "cell_type": "markdown",
   "metadata": {},
   "source": [
    "The rotated version of the string is `seq[shift:] + seq[:shift]`,\n",
    "so we can see the matches for each rotation like this:\n"
   ]
  },
  {
   "cell_type": "code",
   "execution_count": 6,
   "metadata": {},
   "outputs": [
    {
     "name": "stdout",
     "output_type": "stream",
     "text": [
      "hello, world: 12\n",
      "ello, worldh: 1\n",
      "llo, worldhe: 0\n",
      "lo, worldhel: 0\n",
      "o, worldhell: 2\n",
      ", worldhello: 1\n",
      " worldhello,: 0\n",
      "worldhello, : 1\n",
      "orldhello, w: 2\n",
      "rldhello, wo: 0\n",
      "ldhello, wor: 0\n",
      "dhello, worl: 1\n"
     ]
    }
   ],
   "source": [
    "for shift in range(len(seq)):\n",
    "    n_match = matches(seq, shift)\n",
    "    print(f\"{seq[shift:] + seq[:shift]}: {n_match}\")"
   ]
  },
  {
   "cell_type": "markdown",
   "metadata": {},
   "source": [
    "After it rotates half way around, we start getting the same counds in reverse.\n",
    "Of course! It's a circle, so the number of matches for a shift of one to the right\n",
    "\n",
    "    hello, world\n",
    "    dhello, worl\n",
    "\n",
    "will be the same as the number of matches for a shift of one to the left\n",
    " \n",
    "    hello, world\n",
    "    ello, worldh\n",
    "\n",
    "The first `len(seq) // 2` shifts give all possible mis-alignments. Even including the original sequence aligned with itself cuts the time to run the previous example nearly in half:"
   ]
  },
  {
   "cell_type": "code",
   "execution_count": 7,
   "metadata": {},
   "outputs": [
    {
     "name": "stdout",
     "output_type": "stream",
     "text": [
      "hello, world : n_match=12\n",
      "ello, worldh : n_match=1\n",
      "llo, worldhe : n_match=0\n",
      "lo, worldhel : n_match=0\n",
      "o, worldhell : n_match=2\n",
      ", worldhello : n_match=1\n",
      " worldhello, : n_match=0\n"
     ]
    }
   ],
   "source": [
    "for shift in range(len(seq)//2 + 1):\n",
    "    n_match = matches(seq, shift)\n",
    "    print(f\"{seq[shift:] + seq[:shift]} : {n_match=}\")"
   ]
  },
  {
   "cell_type": "markdown",
   "metadata": {},
   "source": [
    "Surprisingly, the fourth mis-alignment has a pair of matches, more than the first! Its second `o`, from `world`, matches the original `o` in `hello`, and its penultimate letter, `l`, matches the `l` in the original `world`. \n",
    "\n",
    "        hello, world\n",
    "        o, worldhell\n",
    "\n",
    "A longer shift gives a better match."
   ]
  },
  {
   "attachments": {},
   "cell_type": "markdown",
   "metadata": {},
   "source": [
    "Before going further, let's re-write `matches()` one more time to make the output more descriptive.\n",
    "\n",
    "Begin by making a named tuple to hold the shift and the number of matches at that position."
   ]
  },
  {
   "cell_type": "code",
   "execution_count": 8,
   "metadata": {},
   "outputs": [
    {
     "data": {
      "text/plain": [
       "ShiftMatch(matches=12, shift=0)"
      ]
     },
     "execution_count": 8,
     "metadata": {},
     "output_type": "execute_result"
    }
   ],
   "source": [
    "from collections import namedtuple\n",
    "ShiftMatch = namedtuple(\"ShiftMatch\", [\"matches\", \"shift\"])\n",
    "ShiftMatch(shift=0, matches=12)\n"
   ]
  },
  {
   "attachments": {},
   "cell_type": "markdown",
   "metadata": {},
   "source": [
    "Now `matches()` becomes this:"
   ]
  },
  {
   "cell_type": "code",
   "execution_count": 9,
   "metadata": {},
   "outputs": [
    {
     "data": {
      "text/plain": [
       "ShiftMatch(matches=12, shift=0)"
      ]
     },
     "execution_count": 9,
     "metadata": {},
     "output_type": "execute_result"
    }
   ],
   "source": [
    "def matches(seq: str, shift: int) -> int:\n",
    "    \"\"\"Count matches of seq to a circular permutation, shifted by shift.\"\"\"\n",
    "    matches = 0\n",
    "    length = len(seq)\n",
    "    for pos, chr in enumerate(seq):\n",
    "        # just use modular arithmetic to find the character to compare to\n",
    "        shifted_chr = seq[(pos+shift) % length]\n",
    "        if chr == shifted_chr:\n",
    "            matches += 1\n",
    "    return ShiftMatch(matches=matches, shift=shift)\n",
    "\n",
    "seq = \"hello, world\"\n",
    "matches(seq, 0)"
   ]
  },
  {
   "attachments": {},
   "cell_type": "markdown",
   "metadata": {},
   "source": [
    "This tweak makes it easy to report all ShiftMatch values."
   ]
  },
  {
   "cell_type": "code",
   "execution_count": 10,
   "metadata": {},
   "outputs": [
    {
     "data": {
      "text/plain": [
       "[ShiftMatch(matches=12, shift=0),\n",
       " ShiftMatch(matches=1, shift=1),\n",
       " ShiftMatch(matches=0, shift=2),\n",
       " ShiftMatch(matches=0, shift=3),\n",
       " ShiftMatch(matches=2, shift=4),\n",
       " ShiftMatch(matches=1, shift=5),\n",
       " ShiftMatch(matches=0, shift=6)]"
      ]
     },
     "execution_count": 10,
     "metadata": {},
     "output_type": "execute_result"
    }
   ],
   "source": [
    "def shift_match_list(seq: str) -> list[ShiftMatch]:\n",
    "    \"\"\"Return number of matches of sequence with each possible shift of itself, sorted best to worst.\"\"\"\n",
    "    _shift_matches = []\n",
    "    for shift in range(len(seq)//2 + 1):\n",
    "        _shift_matches.append(matches(seq, shift))\n",
    "    return _shift_matches\n",
    "\n",
    "shift_match_list(seq)"
   ]
  },
  {
   "attachments": {},
   "cell_type": "markdown",
   "metadata": {},
   "source": [
    "Or the same list sorted by # of matches."
   ]
  },
  {
   "cell_type": "code",
   "execution_count": 11,
   "metadata": {},
   "outputs": [],
   "source": [
    "def most_matches(seq: str) -> list[ShiftMatch]:\n",
    "    return sorted(shift_match_list(seq), reverse=True)"
   ]
  },
  {
   "cell_type": "code",
   "execution_count": 12,
   "metadata": {},
   "outputs": [
    {
     "data": {
      "text/plain": [
       "[ShiftMatch(matches=12, shift=0),\n",
       " ShiftMatch(matches=2, shift=4),\n",
       " ShiftMatch(matches=1, shift=5),\n",
       " ShiftMatch(matches=1, shift=1),\n",
       " ShiftMatch(matches=0, shift=6),\n",
       " ShiftMatch(matches=0, shift=3),\n",
       " ShiftMatch(matches=0, shift=2)]"
      ]
     },
     "execution_count": 12,
     "metadata": {},
     "output_type": "execute_result"
    }
   ],
   "source": [
    "most_matches(seq)"
   ]
  },
  {
   "cell_type": "markdown",
   "metadata": {},
   "source": [
    "As we've seen already, the most matches are with the unshifted string itself (no surprise), the second most are at a shift of 4.\n",
    "Shifts of 1 and 5 both find only one match, and the rest have none. "
   ]
  },
  {
   "attachments": {},
   "cell_type": "markdown",
   "metadata": {},
   "source": [
    "## Circular DNA"
   ]
  },
  {
   "attachments": {},
   "cell_type": "markdown",
   "metadata": {},
   "source": [
    "Well, okay, but so what? In the first place, who wants to compare strings with their shifted versions,\n",
    "and in the second who ever has circular strings?\n",
    "\n",
    "Let's start with the latter.\n",
    "The DNA in your chromosomes is a linear string of the letters 'A', 'C', 'G', and 'T'.\n",
    "Of course, these letters are chemicals -- Adenine, Cytosine, Guanine, and Thymine -- but every letter in this notebook\n",
    "is really just a bit pattern, and even if you think of bits ones and zeros, they're implemented in electronics.\n",
    "\n",
    "So. DNA is a chemical implementation of a string. (Biologists call the four letters ***bases***, \n",
    "so we'll use that language from here on.) Modern DNA-sequencing techniques supply a surfeit of such strings.\n",
    "\n",
    "But not all DNA in your cells is in the nucleus. There's also DNA in your mitochondria. \n",
    "And while the DNA in chromosomes is linear strings in a four-letter alphabet, \n",
    "the DNA in the mitochondria of those cells is circular.\n",
    "\n",
    "It's also a lot smaller. The biggest human chromosome has almost 250 million letters, the smallest, only about 45 million.\n",
    "Human mitochondrial DNA? 16,569 bases, smaller than a 20KB file.  An old-fashioned, 80x24 terminal window shows 1920 characters, \n",
    "so only about eight of those. \n",
    "\n",
    "The genome of *Escherischia coli*, the workhorse of bacterial genetics, is bigger but still only about 50MB. And circular.\n",
    "Bacteriophage *lambda*, a common molecular biology tool, infects *E. coli*, and is only about 50KB, a tenth the size. \n",
    "(A \"bacteriophage\", or \"phage\" is a virus that infects bacteria.)\n",
    "Another *E. coli* predator, *phiX174*, is only 5K.  All three are circular. \n",
    "\n",
    "Circular genomes are the rule in the bacterial world, not the exception.\n",
    "We have tons of strings available to us that are circular. They're all DNA.\n",
    "\n",
    "\n"
   ]
  },
  {
   "attachments": {},
   "cell_type": "markdown",
   "metadata": {},
   "source": [
    "## A Look at PhiX DNA.\n",
    "\n",
    "Let's try our code on [the phiX174 genome](https://www.ncbi.nlm.nih.gov/nuccore/9626372). You can download it to a file by clicking on **FASTA**, then **Send to:**.\n"
   ]
  },
  {
   "attachments": {},
   "cell_type": "markdown",
   "metadata": {},
   "source": [
    "The FASTA file, `sequence.fasta`, is just a text file -- a single-line header followed by the DNA sequence, broken into 72-column lines."
   ]
  },
  {
   "cell_type": "code",
   "execution_count": 13,
   "metadata": {},
   "outputs": [
    {
     "name": "stdout",
     "output_type": "stream",
     "text": [
      "['>NC_001422.1 Escherichia phage phiX174, complete genome\\n', 'GAGTTTTATCGCTTCCATGACGCAGAAGTTAACACTTTCGGATATTTCTGATGAGTCGAAAAATTATCTT\\n']\n"
     ]
    }
   ],
   "source": [
    "with open(\"sequence.fasta\") as fasta:\n",
    "   lines = fasta.readlines()\n",
    "print(lines[:2])"
   ]
  },
  {
   "attachments": {},
   "cell_type": "markdown",
   "metadata": {},
   "source": [
    "You could parse it yourself and concatenate all the DNA fragments into a single string,\n",
    "but BioPython will do that work for you."
   ]
  },
  {
   "cell_type": "code",
   "execution_count": 14,
   "metadata": {},
   "outputs": [
    {
     "data": {
      "text/plain": [
       "'NC_001422.1 Escherichia phage phiX174, complete genome'"
      ]
     },
     "execution_count": 14,
     "metadata": {},
     "output_type": "execute_result"
    }
   ],
   "source": [
    "import Bio.SeqIO  # the BioPython module, for handling DNA sequences.\n",
    "\n",
    "record = Bio.SeqIO.read(\"sequence.fasta\", \"fasta\")\n",
    "record.description\n"
   ]
  },
  {
   "cell_type": "code",
   "execution_count": 15,
   "metadata": {},
   "outputs": [
    {
     "data": {
      "text/plain": [
       "5386"
      ]
     },
     "execution_count": 15,
     "metadata": {},
     "output_type": "execute_result"
    }
   ],
   "source": [
    "len(record.seq)\n"
   ]
  },
  {
   "attachments": {},
   "cell_type": "markdown",
   "metadata": {},
   "source": [
    "PhiX has 5386 bases.\n",
    "\n",
    "Let's wrap getting the sequence into a function."
   ]
  },
  {
   "cell_type": "code",
   "execution_count": 16,
   "metadata": {},
   "outputs": [],
   "source": [
    "def get_dna_sequence(filename: str) -> str:\n",
    "    \"\"\"Return sequence in FASTA file as a single string.\"\"\"\n",
    "    return Bio.SeqIO.read(filename, \"fasta\").seq\n"
   ]
  },
  {
   "attachments": {},
   "cell_type": "markdown",
   "metadata": {},
   "source": [
    "### Compare phiX to Itself, Shifted"
   ]
  },
  {
   "attachments": {},
   "cell_type": "markdown",
   "metadata": {},
   "source": [
    "Alright-y, then! What happens when we look at shift-matches for the PhiX circular genome?\n",
    "Once again, the most matches will be for the un-shifted genome, but what comes next?"
   ]
  },
  {
   "cell_type": "code",
   "execution_count": 17,
   "metadata": {},
   "outputs": [
    {
     "name": "stdout",
     "output_type": "stream",
     "text": [
      "best:  [ShiftMatch(matches=5386, shift=0), ShiftMatch(matches=1609, shift=66)]\n",
      "worst:  [ShiftMatch(matches=1239, shift=2417), ShiftMatch(matches=1223, shift=478)]\n"
     ]
    }
   ],
   "source": [
    "phi_x = get_dna_sequence(\"sequence.fasta\")\n",
    "sorted_matches = most_matches(phi_x)\n",
    "print(\"best: \", sorted_matches[:2])\n",
    "print(\"worst: \", sorted_matches[-2:])"
   ]
  },
  {
   "attachments": {},
   "cell_type": "markdown",
   "metadata": {},
   "source": [
    "The most matches, 5386, are the whole sequence. When you don't shift at all, everything matches itself.\n",
    "The second-most matches, 1609, are at a shift of 66. \n",
    "\n",
    "Is 66 a lot? We'll have to do work to know, so let's defer that for a second and focus on the shifts instead."
   ]
  },
  {
   "cell_type": "code",
   "execution_count": 18,
   "metadata": {},
   "outputs": [
    {
     "data": {
      "text/plain": [
       "[0,\n",
       " 66,\n",
       " 78,\n",
       " 9,\n",
       " 12,\n",
       " 57,\n",
       " 21,\n",
       " 96,\n",
       " 48,\n",
       " 33,\n",
       " 30,\n",
       " 180,\n",
       " 87,\n",
       " 3,\n",
       " 132,\n",
       " 195,\n",
       " 102,\n",
       " 6,\n",
       " 39,\n",
       " 51,\n",
       " 156,\n",
       " 15,\n",
       " 120,\n",
       " 90,\n",
       " 45,\n",
       " 249,\n",
       " 93,\n",
       " 18,\n",
       " 69,\n",
       " 126]"
      ]
     },
     "execution_count": 18,
     "metadata": {},
     "output_type": "execute_result"
    }
   ],
   "source": [
    "shifts_with_most_matches = [shift_match.shift for shift_match in sorted_matches]\n",
    "shifts_with_most_matches[:30]  # the 35 positions with the most matches"
   ]
  },
  {
   "attachments": {},
   "cell_type": "markdown",
   "metadata": {},
   "source": [
    "What do these have in common? They're all divisible by 3.\n",
    "How far down the list do you need to go to find one that isn't?"
   ]
  },
  {
   "cell_type": "code",
   "execution_count": 19,
   "metadata": {},
   "outputs": [
    {
     "name": "stdout",
     "output_type": "stream",
     "text": [
      "first indivisible by 3: 65, shift_match = ShiftMatch(matches=1502, shift=1828)\n"
     ]
    }
   ],
   "source": [
    "# find the ranks of shifts indivisible by 3\n",
    "i_b_3 = [sorted_matches.index(shift_match) for shift_match in sorted_matches if shift_match.shift % 3 != 0]\n",
    "print(f\"first indivisible by 3: {i_b_3[0]}, shift_match = {sorted_matches[i_b_3[0]]}\")"
   ]
  },
  {
   "attachments": {},
   "cell_type": "markdown",
   "metadata": {},
   "source": [
    "The first shift indivisible by 3 has the 66th most matches: only 1502 out of 5386 characters.\n",
    "\n",
    "There are 2694 -- 5386//2 + 1 -- possible shifts. Only a third of those, 898, are divisible by 3.\n",
    "The 65 shifts with the most matches are in that third. (Array indices start at 0.)\n",
    "\n",
    "There's something special about multiples of 3 in PhiX DNA.\n",
    "\n",
    "\n",
    "\n"
   ]
  },
  {
   "attachments": {},
   "cell_type": "markdown",
   "metadata": {},
   "source": [
    "## A Little Statistics"
   ]
  },
  {
   "attachments": {},
   "cell_type": "markdown",
   "metadata": {},
   "source": [
    "How many matches would you expect to see for a shift if bases were arranged at random? \n",
    "\n",
    "\n",
    "Well, there are four bases, so on average, a quarter of the letters would end up randomly matching: \n",
    "5386/4 = 1347.\n",
    "\n",
    "Right?\n",
    "\n",
    "Wrong.\n",
    "\n",
    "The letters may not occur 1/4 of the time.  If, for example, you had a circular sequence that was all 'A', every shift would still match at every letter. To figure out how many matches we expect at random requires first finding out the letter distribution, or *base composition*, and then doing some math. \n",
    "\n",
    "Here's the base composition of PhiX"
   ]
  },
  {
   "cell_type": "code",
   "execution_count": 20,
   "metadata": {},
   "outputs": [
    {
     "data": {
      "text/plain": [
       "Counter({'G': 1254, 'A': 1291, 'T': 1684, 'C': 1157})"
      ]
     },
     "execution_count": 20,
     "metadata": {},
     "output_type": "execute_result"
    }
   ],
   "source": [
    "from collections import Counter\n",
    "\n",
    "def base_composition(seq: str):\n",
    "    composition = Counter(seq)\n",
    "    return composition\n",
    "\n",
    "base_composition(phi_x)"
   ]
  },
  {
   "attachments": {},
   "cell_type": "markdown",
   "metadata": {},
   "source": [
    "So the probability of two random bases matching drawn (with replacement) from these is\n",
    "P('G')*P('G') + P('A')*P('A') + P('T')*P('T') + P('C')*P('C')"
   ]
  },
  {
   "cell_type": "code",
   "execution_count": 21,
   "metadata": {},
   "outputs": [],
   "source": [
    "def p_random_match(seq:str) -> float:\n",
    "    \"\"\" Probability of a random match.\n",
    "\n",
    "      Probability for two bases drawn at random\n",
    "      from a distribution matching seq.\n",
    "    \"\"\"  \n",
    "    counts = base_composition(seq)\n",
    "    total = len(seq)\n",
    "    base_probabilities = {base: count/total for base, count in counts.items()}\n",
    "    p = 0  # probability of a random match\n",
    "    for base, prob in base_probabilities.items():\n",
    "        p += prob*prob\n",
    "    return p\n",
    "\n"
   ]
  },
  {
   "attachments": {},
   "cell_type": "markdown",
   "metadata": {},
   "source": [
    "For a sequence of all 'A's, every shift matches."
   ]
  },
  {
   "cell_type": "code",
   "execution_count": 22,
   "metadata": {},
   "outputs": [
    {
     "data": {
      "text/plain": [
       "1.0"
      ]
     },
     "execution_count": 22,
     "metadata": {},
     "output_type": "execute_result"
    }
   ],
   "source": [
    "p_random_match(\"A\"*5386)  # a phiX-length sequence of all 'A's\n"
   ]
  },
  {
   "cell_type": "code",
   "execution_count": 23,
   "metadata": {},
   "outputs": [
    {
     "name": "stdout",
     "output_type": "stream",
     "text": [
      "P(random match) = 0.26, Expected total matches = 1376\n"
     ]
    }
   ],
   "source": [
    "p = p_random_match(phi_x)\n",
    "print(f\"P(random match) = {p:2.2}, Expected total matches = {round(p*len(phi_x))}\")"
   ]
  },
  {
   "attachments": {},
   "cell_type": "markdown",
   "metadata": {},
   "source": [
    "Answering our earlier question, we expect about 26% of the bases to match if phiX bases are just randomly arranged--about 1376.\n",
    "The standard deviation on that last is roughly `sqrt(n*p(1-p))`."
   ]
  },
  {
   "cell_type": "code",
   "execution_count": 24,
   "metadata": {},
   "outputs": [
    {
     "name": "stdout",
     "output_type": "stream",
     "text": [
      "standard deviation = 32\n"
     ]
    }
   ],
   "source": [
    "from math import sqrt\n",
    "sigma = sqrt(len(phi_x)*p*(1-p))\n",
    "print(\"standard deviation =\", round(sigma))"
   ]
  },
  {
   "cell_type": "code",
   "execution_count": 26,
   "metadata": {},
   "outputs": [
    {
     "data": {
      "text/plain": [
       "898"
      ]
     },
     "execution_count": 26,
     "metadata": {},
     "output_type": "execute_result"
    }
   ],
   "source": [
    "d_b_3 = [shift_match for shift_match in sorted_matches if shift_match.shift % 3 == 0]\n",
    "big = [shift_match for shift_match in d_b_3 if shift_match.matches > p + 3*sigma]\n",
    "len(big)"
   ]
  },
  {
   "cell_type": "markdown",
   "metadata": {},
   "source": [
    "## Simulating the Combinatorics Problem"
   ]
  },
  {
   "attachments": {},
   "cell_type": "markdown",
   "metadata": {},
   "source": [
    "Let's begin with a random DNA sequence with a given base composition.\n"
   ]
  },
  {
   "cell_type": "code",
   "execution_count": 27,
   "metadata": {},
   "outputs": [
    {
     "name": "stdout",
     "output_type": "stream",
     "text": [
      "CGTTCGATACGTGT\n",
      "CCTGCTAGGGTATT\n",
      "ATGCTCATGGGCTT\n",
      "GCTGCGCTTATGTA\n",
      "TGGCATTGTTCGAC\n"
     ]
    }
   ],
   "source": [
    "\n",
    "from random import shuffle\n",
    "def random_seq(composition: dict[str: int]):\n",
    "    \"\"\"Return a random sequence with a given composition\"\"\"\n",
    "    seq = []\n",
    "    for base, count in composition.items():\n",
    "        seq += [base] * count\n",
    "        shuffle(seq)\n",
    "    return ''.join(seq)\n",
    "\n",
    "\n",
    "# 5 random sequences with the same composition\n",
    "for _ in range(5):\n",
    "    print(random_seq({'A': 2, 'C': 3, 'G': 4, 'T': 5}))\n",
    "\n"
   ]
  },
  {
   "attachments": {},
   "cell_type": "markdown",
   "metadata": {},
   "source": [
    "Now look at all the self_matches of that random sequence."
   ]
  },
  {
   "cell_type": "code",
   "execution_count": 28,
   "metadata": {},
   "outputs": [
    {
     "data": {
      "text/plain": [
       "[ShiftMatch(matches=14, shift=0),\n",
       " ShiftMatch(matches=3, shift=1),\n",
       " ShiftMatch(matches=6, shift=2),\n",
       " ShiftMatch(matches=3, shift=3),\n",
       " ShiftMatch(matches=2, shift=4),\n",
       " ShiftMatch(matches=3, shift=5),\n",
       " ShiftMatch(matches=2, shift=6),\n",
       " ShiftMatch(matches=2, shift=7)]"
      ]
     },
     "execution_count": 28,
     "metadata": {},
     "output_type": "execute_result"
    }
   ],
   "source": [
    "seq = random_seq({'A': 2, 'C': 3, 'G': 4, 'T': 5})\n",
    "shift_matches = shift_match_list(seq)\n",
    "shift_matches\n"
   ]
  },
  {
   "cell_type": "code",
   "execution_count": null,
   "metadata": {},
   "outputs": [
    {
     "name": "stdout",
     "output_type": "stream",
     "text": [
      "14\n",
      "6\n",
      "2\n",
      "0\n",
      "2\n",
      "3\n",
      "5\n",
      "4\n"
     ]
    },
    {
     "data": {
      "text/plain": [
       "3.5"
      ]
     },
     "execution_count": 202,
     "metadata": {},
     "output_type": "execute_result"
    }
   ],
   "source": [
    "from statistics import median\n",
    "\n",
    "for shift_match in shift_matches:\n",
    "    print(shift_match.matches)\n",
    "\n",
    "median([shift_match.matches for shift_match in shift_matches])"
   ]
  },
  {
   "attachments": {},
   "cell_type": "markdown",
   "metadata": {},
   "source": [
    "Let's wrap that into a function or two:\n"
   ]
  },
  {
   "cell_type": "code",
   "execution_count": 31,
   "metadata": {},
   "outputs": [],
   "source": [
    "from statistics import median\n",
    "\n",
    "def median_matches(seq):\n",
    "    return median([shift_match.matches for shift_match in shift_match_list(seq)])\n",
    "\n",
    "def median_matches_random(seq: str):\n",
    "    counts = base_composition(seq)\n",
    "    seq = random_seq(counts)\n",
    "    return median_matches(seq)"
   ]
  },
  {
   "cell_type": "code",
   "execution_count": 32,
   "metadata": {},
   "outputs": [
    {
     "name": "stdout",
     "output_type": "stream",
     "text": [
      "CPU times: user 4.13 s, sys: 37.3 ms, total: 4.17 s\n",
      "Wall time: 4.17 s\n"
     ]
    },
    {
     "data": {
      "text/plain": [
       "1374.0"
      ]
     },
     "execution_count": 32,
     "metadata": {},
     "output_type": "execute_result"
    }
   ],
   "source": [
    "%time median_matches(phi_x)"
   ]
  },
  {
   "cell_type": "code",
   "execution_count": null,
   "metadata": {},
   "outputs": [
    {
     "name": "stdout",
     "output_type": "stream",
     "text": [
      "1376.0\n",
      "1375.0\n",
      "1376.0\n",
      "1375.0\n",
      "1375.0\n",
      "1376.0\n",
      "1376.0\n",
      "1375.5\n",
      "1376.0\n",
      "1376.0\n"
     ]
    }
   ],
   "source": [
    "for _ in range(10):\n",
    "    print(median_matches_random(phi_x))"
   ]
  },
  {
   "cell_type": "markdown",
   "metadata": {},
   "source": [
    "The median matches for phiX174 matches a random sequence with the same composition.\n",
    "\n",
    "But is there the same bias toward shifts of 3?"
   ]
  },
  {
   "cell_type": "code",
   "execution_count": 34,
   "metadata": {},
   "outputs": [
    {
     "name": "stdout",
     "output_type": "stream",
     "text": [
      "phi_x, first shift indivisible by 3: 65, shift_match = ShiftMatch(matches=1502, shift=1828)\n",
      "random sequence, phi_x composition, first shift indivisible by 3: 2, shift_match = ShiftMatch(matches=1608, shift=78)\n"
     ]
    }
   ],
   "source": [
    "def indivisible_by_3(seq):\n",
    "    sorted_matches = most_matches(seq)\n",
    "    return [sorted_matches.index(shift_match) for shift_match in sorted_matches if shift_match.shift % 3 != 0]\n",
    "\n",
    "l = indivisible_by_3(phi_x)\n",
    "print(f\"phi_x, first shift indivisible by 3: {l[0]}, shift_match = {sorted_matches[l[0]]}\")\n",
    "counts = base_composition(phi_x)\n",
    "seq = random_seq(counts)\n",
    "l = indivisible_by_3(random_seq(counts))\n",
    "print(f\"random sequence, phi_x composition, first shift indivisible by 3: {l[0]}, shift_match = {sorted_matches[l[0]]}\")\n"
   ]
  }
 ],
 "metadata": {
  "kernelspec": {
   "display_name": "Python 3 (ipykernel)",
   "language": "python",
   "name": "python3"
  },
  "language_info": {
   "codemirror_mode": {
    "name": "ipython",
    "version": 3
   },
   "file_extension": ".py",
   "mimetype": "text/x-python",
   "name": "python",
   "nbconvert_exporter": "python",
   "pygments_lexer": "ipython3",
   "version": "3.11.2"
  }
 },
 "nbformat": 4,
 "nbformat_minor": 2
}
